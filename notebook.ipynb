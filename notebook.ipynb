{
 "cells": [
  {
   "cell_type": "code",
   "execution_count": 23,
   "metadata": {},
   "outputs": [],
   "source": [
    "import numpy as np\n",
    "import pandas as pd\n",
    "import matplotlib.pyplot as plt\n",
    "from matplotlib import cm\n",
    "from sklearn.model_selection import train_test_split\n",
    "from data.supplemental_english import GOVERNMENT_CODES, REGION_CODES"
   ]
  },
  {
   "cell_type": "code",
   "execution_count": 12,
   "metadata": {},
   "outputs": [
    {
     "data": {
      "text/html": [
       "<div>\n",
       "<style scoped>\n",
       "    .dataframe tbody tr th:only-of-type {\n",
       "        vertical-align: middle;\n",
       "    }\n",
       "\n",
       "    .dataframe tbody tr th {\n",
       "        vertical-align: top;\n",
       "    }\n",
       "\n",
       "    .dataframe thead th {\n",
       "        text-align: right;\n",
       "    }\n",
       "</style>\n",
       "<table border=\"1\" class=\"dataframe\">\n",
       "  <thead>\n",
       "    <tr style=\"text-align: right;\">\n",
       "      <th></th>\n",
       "      <th>id</th>\n",
       "      <th>plate</th>\n",
       "      <th>date</th>\n",
       "      <th>price</th>\n",
       "    </tr>\n",
       "  </thead>\n",
       "  <tbody>\n",
       "    <tr>\n",
       "      <th>0</th>\n",
       "      <td>1</td>\n",
       "      <td>X059CP797</td>\n",
       "      <td>2024-12-26 00:00:00</td>\n",
       "      <td>65000</td>\n",
       "    </tr>\n",
       "    <tr>\n",
       "      <th>1</th>\n",
       "      <td>2</td>\n",
       "      <td>Y800MH790</td>\n",
       "      <td>2024-07-12 21:31:37</td>\n",
       "      <td>100000</td>\n",
       "    </tr>\n",
       "    <tr>\n",
       "      <th>2</th>\n",
       "      <td>3</td>\n",
       "      <td>A212TX77</td>\n",
       "      <td>2024-04-18 00:00:00</td>\n",
       "      <td>290000</td>\n",
       "    </tr>\n",
       "    <tr>\n",
       "      <th>3</th>\n",
       "      <td>4</td>\n",
       "      <td>P001AY199</td>\n",
       "      <td>2025-01-03 00:27:15</td>\n",
       "      <td>680000</td>\n",
       "    </tr>\n",
       "    <tr>\n",
       "      <th>4</th>\n",
       "      <td>5</td>\n",
       "      <td>P001AY199</td>\n",
       "      <td>2025-01-10 09:32:41</td>\n",
       "      <td>750000</td>\n",
       "    </tr>\n",
       "    <tr>\n",
       "      <th>5</th>\n",
       "      <td>6</td>\n",
       "      <td>B400BB750</td>\n",
       "      <td>2022-04-09 00:00:00</td>\n",
       "      <td>50000</td>\n",
       "    </tr>\n",
       "    <tr>\n",
       "      <th>6</th>\n",
       "      <td>7</td>\n",
       "      <td>P666OM790</td>\n",
       "      <td>2024-11-14 00:00:00</td>\n",
       "      <td>300000</td>\n",
       "    </tr>\n",
       "    <tr>\n",
       "      <th>7</th>\n",
       "      <td>8</td>\n",
       "      <td>C080KP777</td>\n",
       "      <td>2021-06-10 12:30:00</td>\n",
       "      <td>300000</td>\n",
       "    </tr>\n",
       "    <tr>\n",
       "      <th>8</th>\n",
       "      <td>9</td>\n",
       "      <td>E737AY550</td>\n",
       "      <td>2024-07-31 00:00:00</td>\n",
       "      <td>60000</td>\n",
       "    </tr>\n",
       "    <tr>\n",
       "      <th>9</th>\n",
       "      <td>10</td>\n",
       "      <td>C001KK750</td>\n",
       "      <td>2024-07-09 08:48:39</td>\n",
       "      <td>420000</td>\n",
       "    </tr>\n",
       "  </tbody>\n",
       "</table>\n",
       "</div>"
      ],
      "text/plain": [
       "   id      plate                 date   price\n",
       "0   1  X059CP797  2024-12-26 00:00:00   65000\n",
       "1   2  Y800MH790  2024-07-12 21:31:37  100000\n",
       "2   3   A212TX77  2024-04-18 00:00:00  290000\n",
       "3   4  P001AY199  2025-01-03 00:27:15  680000\n",
       "4   5  P001AY199  2025-01-10 09:32:41  750000\n",
       "5   6  B400BB750  2022-04-09 00:00:00   50000\n",
       "6   7  P666OM790  2024-11-14 00:00:00  300000\n",
       "7   8  C080KP777  2021-06-10 12:30:00  300000\n",
       "8   9  E737AY550  2024-07-31 00:00:00   60000\n",
       "9  10  C001KK750  2024-07-09 08:48:39  420000"
      ]
     },
     "execution_count": 12,
     "metadata": {},
     "output_type": "execute_result"
    }
   ],
   "source": [
    "df = pd.read_csv(\"data/train.csv\")\n",
    "df.head(10)"
   ]
  },
  {
   "cell_type": "code",
   "execution_count": 11,
   "metadata": {},
   "outputs": [],
   "source": [
    "# Create training and validation dataset\n",
    "X = np.array(df[[col for col in df.columns if col != 'price' and col != 'id']])\n",
    "y = np.array(df['price'])\n",
    "X_train, X_val, y_train, y_val = train_test_split(X, y, test_size = 0.2, random_state = 42)"
   ]
  },
  {
   "cell_type": "code",
   "execution_count": 65,
   "metadata": {},
   "outputs": [],
   "source": [
    "def get_government_series():\n",
    "    gov_series = set()\n",
    "    special_gov_series = {}\n",
    "    for key in GOVERNMENT_CODES:\n",
    "        gov_series.add(key[0])\n",
    "        if key[1] != (0, 999):\n",
    "            if ((key[0], key[2])) not in special_gov_series:\n",
    "                special_gov_series[(key[0], key[2])] = []\n",
    "            special_gov_series[(key[0], key[2])].append(key[1])\n",
    "    return gov_series, special_gov_series"
   ]
  },
  {
   "cell_type": "code",
   "execution_count": 67,
   "metadata": {},
   "outputs": [
    {
     "data": {
      "text/plain": [
       "{('CAC', '77'): [(500, 999)],\n",
       " ('MMP', '77'): [(300, 320), (0, 299), (321, 999)],\n",
       " ('OKO', '78'): [(0, 100), (700, 999)],\n",
       " ('OKO', '98'): [(0, 100), (700, 999)],\n",
       " ('AAA', '78'): [(0, 100)],\n",
       " ('AAA', '98'): [(0, 100)],\n",
       " ('OOO', '78'): [(0, 899), (900, 999)],\n",
       " ('OOO', '98'): [(0, 899), (900, 999)],\n",
       " ('AAA', '54'): [(0, 199), (200, 999)]}"
      ]
     },
     "execution_count": 67,
     "metadata": {},
     "output_type": "execute_result"
    }
   ],
   "source": [
    "gov, special = get_government_series()\n",
    "special"
   ]
  },
  {
   "cell_type": "code",
   "execution_count": 64,
   "metadata": {},
   "outputs": [],
   "source": [
    "def get_region(region_code):\n",
    "    for region in REGION_CODES:\n",
    "        for code in REGION_CODES[region]:\n",
    "            if code == region_code:\n",
    "                return region\n",
    "    return \"NAN\""
   ]
  },
  {
   "cell_type": "code",
   "execution_count": null,
   "metadata": {},
   "outputs": [
    {
     "data": {
      "text/plain": [
       "{'series1': 'X', 'serial_number': '059', 'series2': 'CP', 'region_code': '797'}"
      ]
     },
     "execution_count": 21,
     "metadata": {},
     "output_type": "execute_result"
    }
   ],
   "source": [
    "def get_plate_info(plate):\n",
    "    series1 = plate[0]\n",
    "    serial_number = plate[1:4]\n",
    "    series2 = plate[4:6]\n",
    "    region_code = plate[6:]\n",
    "    \n",
    "    '''\n",
    "    We want to get:\n",
    "    + region\n",
    "    + series number\n",
    "    + is it government plate or not\n",
    "    + is it forbidden to buy\n",
    "    + does it have advantage\n",
    "    + category\n",
    "    '''\n",
    "    gov_series, special_gov_series = get_government_series()\n",
    "    series = series1 + series2\n",
    "    if series not in gov_series:\n",
    "        info[\"government_plate\"] = 0\n",
    "        info[\"serial_number\"] = serial_number\n",
    "        info[\"forbidden_to_buy\"] = 0\n",
    "        info[\"have_advantage\"] = 0 \n",
    "        info[\"significance_level\"] = 0\n",
    "        info[\"region\"] = get_region(region_code)\n",
    "        info[\"category\"] = \"Normal plate\"\n",
    "    else:\n",
    "        info[\"government_plate\"] = 1 \n",
    "        if (series, region_code) in special_gov_series:\n",
    "            for r in special_gov_series[(series, region_code)]:\n",
    "                if serial_number \n",
    "            series_range = \n",
    "    \n",
    " \n",
    "\n",
    "    info = {}   \n",
    "\n",
    "    return info\n",
    "    "
   ]
  },
  {
   "cell_type": "code",
   "execution_count": null,
   "metadata": {},
   "outputs": [],
   "source": []
  }
 ],
 "metadata": {
  "kernelspec": {
   "display_name": "Python 3",
   "language": "python",
   "name": "python3"
  },
  "language_info": {
   "codemirror_mode": {
    "name": "ipython",
    "version": 3
   },
   "file_extension": ".py",
   "mimetype": "text/x-python",
   "name": "python",
   "nbconvert_exporter": "python",
   "pygments_lexer": "ipython3",
   "version": "3.12.6"
  }
 },
 "nbformat": 4,
 "nbformat_minor": 2
}
